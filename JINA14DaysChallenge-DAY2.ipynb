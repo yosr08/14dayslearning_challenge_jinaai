{
 "cells": [
  {
   "cell_type": "markdown",
   "id": "5f5e4370",
   "metadata": {},
   "source": [
    "# Basic data types"
   ]
  },
  {
   "cell_type": "markdown",
   "id": "067b5dd2",
   "metadata": {},
   "source": [
    "## Document \n",
    "  * **Document** is  the basic data type that Jina operates with (eg Text, picture, video..)\n",
    "  * **DocumentArray** is a sequence container of document s "
   ]
  },
  {
   "cell_type": "code",
   "execution_count": 1,
   "id": "3ee75ce7",
   "metadata": {},
   "outputs": [],
   "source": [
    "from jina import Document, DocumentArray\n",
    "doc1 = Document(text= \"hello world\")\n",
    "doc2 = Document(uri=\"dog.jpg\")\n",
    "docs = DocumentArray([doc1, doc2])"
   ]
  },
  {
   "cell_type": "code",
   "execution_count": 2,
   "id": "850747be",
   "metadata": {},
   "outputs": [
    {
     "data": {
      "text/html": [
       "<img src=\"https://mermaid.ink/svg/JSV7aW5pdDogeyd0aGVtZSc6ICdiYXNlJywgJ3RoZW1lVmFyaWFibGVzJzogeyAncHJpbWFyeUNvbG9yJzogJyNGRkM2NjYnfX19JSUKICAgICAgICAgICAgICAgICAgICAgICAgICAgICAgICAgICAgICAgIGNsYXNzRGlhZ3JhbQogICAgICAgIAogICAgICAgICAgICAgICAgICAgICAgICAgICAgICAgICAgICAgICAgICAgICAgICBjbGFzcyBjNzl+RG9jdW1lbnR+eworaWQgM2QzZTBmMDgtMworbWltZV90eXBlIHRleHQvcGxhaW4KK3RleHQgaGVsbG8gd29ybAp9\"/>"
      ],
      "text/plain": [
       "<IPython.core.display.Image object>"
      ]
     },
     "metadata": {},
     "output_type": "display_data"
    },
    {
     "data": {
      "text/html": [
       "<img src=\"https://mermaid.ink/svg/JSV7aW5pdDogeyd0aGVtZSc6ICdiYXNlJywgJ3RoZW1lVmFyaWFibGVzJzogeyAncHJpbWFyeUNvbG9yJzogJyNGRkM2NjYnfX19JSUKICAgICAgICAgICAgICAgICAgICAgICAgICAgICAgICAgICAgICAgIGNsYXNzRGlhZ3JhbQogICAgICAgIAogICAgICAgICAgICAgICAgICAgICAgICAgICAgICAgICAgICAgICAgICAgICAgICBjbGFzcyBiZDJ+RG9jdW1lbnR+eworaWQgM2QzZTBmMDktMwordXJpIGRvZy5qcGcKK21pbWVfdHlwZSBpbWFnZS9qcGVnCn0=\"/>"
      ],
      "text/plain": [
       "<IPython.core.display.Image object>"
      ]
     },
     "metadata": {},
     "output_type": "display_data"
    }
   ],
   "source": [
    "for doc in docs:\n",
    "    display(doc)"
   ]
  },
  {
   "cell_type": "markdown",
   "id": "c1b13b33",
   "metadata": {},
   "source": [
    "### Exploring Document attributes"
   ]
  },
  {
   "cell_type": "code",
   "execution_count": 20,
   "id": "f9ae7139",
   "metadata": {},
   "outputs": [
    {
     "name": "stdout",
     "output_type": "stream",
     "text": [
      "hello world\n",
      "hello world\n",
      "dog.jpg\n"
     ]
    }
   ],
   "source": [
    "\n",
    "print(doc1.text) # The text info of the Document\n",
    "print(doc1.content) # access one of non-empty field of(doc.buffer , doc.text, doc.blob)\n",
    "print(doc2.uri) # A uri of the Document"
   ]
  },
  {
   "cell_type": "code",
   "execution_count": 22,
   "id": "56720c1a",
   "metadata": {},
   "outputs": [],
   "source": [
    "# document can take an str , ndarray ,or buffer \n",
    "from jina import Document\n",
    "import numpy as np\n",
    "\n",
    "d1 = Document(content=\"hello World\")\n",
    "d2 = Document(content=b'\\f1')\n",
    "d3 = Document(content = np.array([1,2,3]))"
   ]
  },
  {
   "cell_type": "code",
   "execution_count": 54,
   "id": "b27cfd6d",
   "metadata": {},
   "outputs": [
    {
     "name": "stdout",
     "output_type": "stream",
     "text": [
      "d1's content is of type text\n",
      "d2's content is of type buffer\n",
      "d3's content is of type blob\n"
     ]
    }
   ],
   "source": [
    "for doc, val in zip([\"d1\", \"d2\", \"d3\"], [d1, d2, d3]):\n",
    "    print(\"{}'s content is of type {}\".format(doc, val.content_type))"
   ]
  },
  {
   "cell_type": "code",
   "execution_count": 70,
   "id": "4de47964",
   "metadata": {},
   "outputs": [
    {
     "data": {
      "text/html": [
       "<img src=\"https://mermaid.ink/svg/JSV7aW5pdDogeyd0aGVtZSc6ICdiYXNlJywgJ3RoZW1lVmFyaWFibGVzJzogeyAncHJpbWFyeUNvbG9yJzogJyNGRkM2NjYnfX19JSUKICAgICAgICAgICAgICAgICAgICAgICAgICAgICAgICAgICAgICAgIGNsYXNzRGlhZ3JhbQogICAgICAgIAogICAgICAgICAgICAgICAgICAgICAgICAgICAgICAgICAgICAgICAgICAgICAgICBjbGFzcyA0ZWV+RG9jdW1lbnR+eworaWQgMGM4NjdiYmYtMworbWltZV90eXBlIHRleHQvcGxhaW4KK3RleHQgaGVsbG8gV29ybAp9\"/>"
      ],
      "text/plain": [
       "<IPython.core.display.Image object>"
      ]
     },
     "metadata": {},
     "output_type": "display_data"
    },
    {
     "data": {
      "text/html": [
       "<img src=\"https://mermaid.ink/svg/JSV7aW5pdDogeyd0aGVtZSc6ICdiYXNlJywgJ3RoZW1lVmFyaWFibGVzJzogeyAncHJpbWFyeUNvbG9yJzogJyNGRkM2NjYnfX19JSUKICAgICAgICAgICAgICAgICAgICAgICAgICAgICAgICAgICAgICAgIGNsYXNzRGlhZ3JhbQogICAgICAgIAogICAgICAgICAgICAgICAgICAgICAgICAgICAgICAgICAgICAgICAgICAgICAgICBjbGFzcyAxYzJ+RG9jdW1lbnR+eworaWQgMGM4NjdiYzAtMworYnVmZmVyIERERT0KfQ==\"/>"
      ],
      "text/plain": [
       "<IPython.core.display.Image object>"
      ]
     },
     "metadata": {},
     "output_type": "display_data"
    },
    {
     "data": {
      "text/html": [
       "<img src=\"https://mermaid.ink/svg/JSV7aW5pdDogeyd0aGVtZSc6ICdiYXNlJywgJ3RoZW1lVmFyaWFibGVzJzogeyAncHJpbWFyeUNvbG9yJzogJyNGRkM2NjYnfX19JSUKICAgICAgICAgICAgICAgICAgICAgICAgICAgICAgICAgICAgICAgIGNsYXNzRGlhZ3JhbQogICAgICAgIAogICAgICAgICAgICAgICAgICAgICAgICAgICAgICAgICAgICAgICAgICAgICAgICBjbGFzcyAwZWR+RG9jdW1lbnR+eworaWQgMGM4NjdiYzEtMworYmxvYig8Y2xhc3MgJ251bXB5Lm5kYXJyYXknPikKfQ==\"/>"
      ],
      "text/plain": [
       "<IPython.core.display.Image object>"
      ]
     },
     "metadata": {},
     "output_type": "display_data"
    }
   ],
   "source": [
    "# documents Visualization\n",
    "for doc in [d1,d2, d3]:\n",
    "    doc.plot(inline_display=True)"
   ]
  },
  {
   "cell_type": "markdown",
   "id": "6e6f0a18",
   "metadata": {},
   "source": [
    "## Executor\n",
    "   * an **Executor** performs a single task on **Document** or **DocumentArray**"
   ]
  },
  {
   "cell_type": "code",
   "execution_count": 6,
   "id": "739e3bfe",
   "metadata": {},
   "outputs": [],
   "source": [
    "from jina import Executor, requests\n",
    "\n",
    "class MyExecutor(Executor):\n",
    "    @requests\n",
    "    def foo(self, **kwargs):\n",
    "        print(kwargs)"
   ]
  },
  {
   "cell_type": "code",
   "execution_count": 13,
   "id": "6154ccbb",
   "metadata": {},
   "outputs": [
    {
     "name": "stdout",
     "output_type": "stream",
     "text": [
      "{'greeting': 'hello World'}\n"
     ]
    }
   ],
   "source": [
    "executor = MyExecutor()\n",
    "executor.foo(greeting=\"hello World\")"
   ]
  },
  {
   "cell_type": "markdown",
   "id": "3b31d948",
   "metadata": {},
   "source": [
    "## Flow\n",
    "   * The **Flow** ties Executors together into a processing pipeline to perform a bigger task, like indexing or quering a dataset"
   ]
  },
  {
   "cell_type": "code",
   "execution_count": 61,
   "id": "2d5789f9",
   "metadata": {},
   "outputs": [],
   "source": [
    "from jina import Flow, Document, Executor, requests\n",
    "\n",
    "class MyExecutor(Executor):\n",
    "    @requests(on='/bar')\n",
    "    def foo(self, docs, **kwargs):\n",
    "        print(docs)\n",
    "        \n",
    "f = Flow().add(name='myexec1', uses=MyExecutor)"
   ]
  },
  {
   "cell_type": "code",
   "execution_count": null,
   "id": "fa6ed52b",
   "metadata": {},
   "outputs": [],
   "source": []
  }
 ],
 "metadata": {
  "kernelspec": {
   "display_name": "Python 3",
   "language": "python",
   "name": "python3"
  },
  "language_info": {
   "codemirror_mode": {
    "name": "ipython",
    "version": 3
   },
   "file_extension": ".py",
   "mimetype": "text/x-python",
   "name": "python",
   "nbconvert_exporter": "python",
   "pygments_lexer": "ipython3",
   "version": "3.8.11"
  }
 },
 "nbformat": 4,
 "nbformat_minor": 5
}
