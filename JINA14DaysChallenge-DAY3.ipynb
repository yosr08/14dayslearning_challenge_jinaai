{
 "cells": [
  {
   "cell_type": "markdown",
   "id": "65db7cae",
   "metadata": {},
   "source": [
    "## Document Embedding\n",
    "   * An embedding is a multi-dimensional     representation of a Document\n",
    "   * An Embedding could be :\n",
    "        * numpy **ndarray**\n",
    "        * Scipy **sparse array**\n",
    "        * Tensorflow and Pytorch **sparse arrays**"
   ]
  },
  {
   "cell_type": "code",
   "execution_count": 1,
   "id": "ad090965",
   "metadata": {},
   "outputs": [],
   "source": [
    "import numpy as np\n",
    "from jina import Document\n",
    "d1 = Document(embedding = np.array([1,2,3]))\n",
    "d2 = Document(embedding = np.array([[1,2,3], [4,5,6]]))"
   ]
  },
  {
   "cell_type": "code",
   "execution_count": 4,
   "id": "9915354f",
   "metadata": {},
   "outputs": [
    {
     "data": {
      "text/html": [
       "<img src=\"https://mermaid.ink/svg/JSV7aW5pdDogeyd0aGVtZSc6ICdiYXNlJywgJ3RoZW1lVmFyaWFibGVzJzogeyAncHJpbWFyeUNvbG9yJzogJyNGRkM2NjYnfX19JSUKICAgICAgICAgICAgICAgICAgICAgICAgICAgICAgICAgICAgICAgIGNsYXNzRGlhZ3JhbQogICAgICAgIAogICAgICAgICAgICAgICAgICAgICAgICAgICAgICAgICAgICAgICAgICAgICAgICBjbGFzcyA2ZDF+RG9jdW1lbnR+eworaWQgYzU2Nzc0ZWUtMworZW1iZWRkaW5nKDxjbGFzcyAnbnVtcHkubmRhcnJheSc+KQp9\"/>"
      ],
      "text/plain": [
       "<IPython.core.display.Image object>"
      ]
     },
     "metadata": {},
     "output_type": "display_data"
    },
    {
     "data": {
      "text/html": [
       "<img src=\"https://mermaid.ink/svg/JSV7aW5pdDogeyd0aGVtZSc6ICdiYXNlJywgJ3RoZW1lVmFyaWFibGVzJzogeyAncHJpbWFyeUNvbG9yJzogJyNGRkM2NjYnfX19JSUKICAgICAgICAgICAgICAgICAgICAgICAgICAgICAgICAgICAgICAgIGNsYXNzRGlhZ3JhbQogICAgICAgIAogICAgICAgICAgICAgICAgICAgICAgICAgICAgICAgICAgICAgICAgICAgICAgICBjbGFzcyAzZGV+RG9jdW1lbnR+eworaWQgYzU2Nzc0ZWYtMworZW1iZWRkaW5nKDxjbGFzcyAnbnVtcHkubmRhcnJheSc+KQp9\"/>"
      ],
      "text/plain": [
       "<IPython.core.display.Image object>"
      ]
     },
     "metadata": {},
     "output_type": "display_data"
    }
   ],
   "source": [
    "display(d1,d2)"
   ]
  },
  {
   "cell_type": "code",
   "execution_count": 12,
   "id": "6f84973c",
   "metadata": {},
   "outputs": [
    {
     "data": {
      "text/plain": [
       "array([1, 2, 3])"
      ]
     },
     "metadata": {},
     "output_type": "display_data"
    },
    {
     "name": "stdout",
     "output_type": "stream",
     "text": [
      "------\n"
     ]
    },
    {
     "data": {
      "text/plain": [
       "array([[1, 2, 3],\n",
       "       [4, 5, 6]])"
      ]
     },
     "metadata": {},
     "output_type": "display_data"
    }
   ],
   "source": [
    "# Access to each document's Embedding attribute\n",
    "display(d1.embedding)\n",
    "print(\"------\")\n",
    "display(d2.embedding)"
   ]
  },
  {
   "cell_type": "markdown",
   "id": "8a96ac4c",
   "metadata": {},
   "source": [
    "#### Sparce Embedding"
   ]
  },
  {
   "cell_type": "code",
   "execution_count": 14,
   "id": "c67719ba",
   "metadata": {},
   "outputs": [],
   "source": [
    "import scipy.sparse as sp\n",
    "\n",
    "d1 = Document(embedding = sp.coo_matrix([0,0,0,1,0]))\n",
    "d2 = Document(embedding = sp.csr_matrix([0,0,0,1,0]))\n",
    "d3 = Document(embedding =sp.bsr_matrix([0,0,0,1,0]))\n",
    "d4 = Document(embedding = sp.csc_matrix([0,0,0,1,0]))\n",
    "\n",
    "d5 = Document(blob=sp.coo_matrix([0, 0, 0, 1, 0]))\n",
    "d6 = Document(blob=sp.csr_matrix([0, 0, 0, 1, 0]))\n",
    "d7 = Document(blob=sp.bsr_matrix([0, 0, 0, 1, 0]))\n",
    "d8 = Document(blob=sp.csc_matrix([0, 0, 0, 1, 0]))"
   ]
  },
  {
   "cell_type": "code",
   "execution_count": 22,
   "id": "32e735ec",
   "metadata": {},
   "outputs": [
    {
     "data": {
      "text/html": [
       "<img src=\"https://mermaid.ink/svg/JSV7aW5pdDogeyd0aGVtZSc6ICdiYXNlJywgJ3RoZW1lVmFyaWFibGVzJzogeyAncHJpbWFyeUNvbG9yJzogJyNGRkM2NjYnfX19JSUKICAgICAgICAgICAgICAgICAgICAgICAgICAgICAgICAgICAgICAgIGNsYXNzRGlhZ3JhbQogICAgICAgIAogICAgICAgICAgICAgICAgICAgICAgICAgICAgICAgICAgICAgICAgICAgICAgICBjbGFzcyAyZmN+RG9jdW1lbnR+eworaWQgMjA1MDcyYzItMworZW1iZWRkaW5nKDxjbGFzcyAnc2NpcHkuc3BhcnNlLmNvby5jb29fbWF0cml4Jz4pCn0=\"/>"
      ],
      "text/plain": [
       "<IPython.core.display.Image object>"
      ]
     },
     "metadata": {},
     "output_type": "display_data"
    },
    {
     "data": {
      "text/plain": [
       "<1x5 sparse matrix of type '<class 'numpy.int32'>'\n",
       "\twith 1 stored elements in COOrdinate format>"
      ]
     },
     "metadata": {},
     "output_type": "display_data"
    }
   ],
   "source": [
    "display(d1)\n",
    "display(d1.embedding)"
   ]
  },
  {
   "cell_type": "code",
   "execution_count": 21,
   "id": "eaf02962",
   "metadata": {},
   "outputs": [
    {
     "data": {
      "text/html": [
       "<img src=\"https://mermaid.ink/svg/JSV7aW5pdDogeyd0aGVtZSc6ICdiYXNlJywgJ3RoZW1lVmFyaWFibGVzJzogeyAncHJpbWFyeUNvbG9yJzogJyNGRkM2NjYnfX19JSUKICAgICAgICAgICAgICAgICAgICAgICAgICAgICAgICAgICAgICAgIGNsYXNzRGlhZ3JhbQogICAgICAgIAogICAgICAgICAgICAgICAgICAgICAgICAgICAgICAgICAgICAgICAgICAgICAgICBjbGFzcyAyYTR+RG9jdW1lbnR+eworaWQgNGM5MTFmMWMtMworYmxvYig8Y2xhc3MgJ3NjaXB5LnNwYXJzZS5jb28uY29vX21hdHJpeCc+KQp9\"/>"
      ],
      "text/plain": [
       "<IPython.core.display.Image object>"
      ]
     },
     "metadata": {},
     "output_type": "display_data"
    },
    {
     "data": {
      "text/plain": [
       "<1x5 sparse matrix of type '<class 'numpy.int32'>'\n",
       "\twith 1 stored elements in COOrdinate format>"
      ]
     },
     "metadata": {},
     "output_type": "display_data"
    }
   ],
   "source": [
    "display(d5)\n",
    "display(d5.blob)"
   ]
  },
  {
   "cell_type": "code",
   "execution_count": 30,
   "id": "d368806d",
   "metadata": {},
   "outputs": [],
   "source": [
    "# tensorflow and pytorch sparce arrays\n",
    "import torch\n",
    "import tensorflow as tf\n",
    "\n",
    "#more information about SparseTensor : https://www.tensorflow.org/api_docs/python/tf/sparse/SparseTensor\n",
    "\n",
    "indices = [[0, 0], [1, 2]] # specifies the indices of the elements in the sparse tensor that contain nonzero values\n",
    "values = [1, 2] # supplies the values for each element in indices\n",
    "dense_shape = [3, 4] # specifies the dense_shape of the sparse tensor\n",
    "\n",
    "d1 = Document(embedding=torch.sparse_coo_tensor(indices, values, dense_shape))\n",
    "d2 = Document(embedding=tf.SparseTensor(indices, values, dense_shape))\n",
    "d3 = Document(blob=torch.sparse_coo_tensor(indices, values, dense_shape))\n",
    "d4 = Document(blob=tf.SparseTensor(indices, values, dense_shape))"
   ]
  },
  {
   "cell_type": "code",
   "execution_count": 31,
   "id": "a74bb642",
   "metadata": {},
   "outputs": [
    {
     "data": {
      "text/html": [
       "<img src=\"https://mermaid.ink/svg/JSV7aW5pdDogeyd0aGVtZSc6ICdiYXNlJywgJ3RoZW1lVmFyaWFibGVzJzogeyAncHJpbWFyeUNvbG9yJzogJyNGRkM2NjYnfX19JSUKICAgICAgICAgICAgICAgICAgICAgICAgICAgICAgICAgICAgICAgIGNsYXNzRGlhZ3JhbQogICAgICAgIAogICAgICAgICAgICAgICAgICAgICAgICAgICAgICAgICAgICAgICAgICAgICAgICBjbGFzcyAyODZ+RG9jdW1lbnR+eworaWQgN2Q3MzY0MDEtMworZW1iZWRkaW5nKDxjbGFzcyAnc2NpcHkuc3BhcnNlLmNvby5jb29fbWF0cml4Jz4pCn0=\"/>"
      ],
      "text/plain": [
       "<IPython.core.display.Image object>"
      ]
     },
     "metadata": {},
     "output_type": "display_data"
    },
    {
     "data": {
      "text/plain": [
       "<3x4 sparse matrix of type '<class 'numpy.int64'>'\n",
       "\twith 2 stored elements in COOrdinate format>"
      ]
     },
     "metadata": {},
     "output_type": "display_data"
    }
   ],
   "source": [
    "display(d1)\n",
    "display(d1.embedding)"
   ]
  },
  {
   "cell_type": "markdown",
   "id": "a14f16ef",
   "metadata": {},
   "source": [
    "## Document tags\n",
    "   * **Document** contains the **tags** field that can hold a map-like structure that can map arbitrary values"
   ]
  },
  {
   "cell_type": "code",
   "execution_count": 35,
   "id": "48971cf1",
   "metadata": {},
   "outputs": [
    {
     "name": "stdout",
     "output_type": "stream",
     "text": [
      "{'last_modified': 'Monday', 'weight': 10.0, 'height': 5.0}\n"
     ]
    }
   ],
   "source": [
    "from jina import Document\n",
    "\n",
    "doc = Document(tags={'dimensions': {'height': 5.0, 'weight': 10.0, 'last_modified': 'Monday'}})\n",
    "\n",
    "print(doc.tags['dimensions'])"
   ]
  },
  {
   "cell_type": "code",
   "execution_count": 36,
   "id": "ad926dab",
   "metadata": {},
   "outputs": [
    {
     "name": "stdout",
     "output_type": "stream",
     "text": [
      "5.0\n"
     ]
    }
   ],
   "source": [
    "#using __ to access nested fields\n",
    "print(doc.tags__dimensions__height)"
   ]
  },
  {
   "cell_type": "markdown",
   "id": "68aec802",
   "metadata": {},
   "source": [
    "## Visualize Recursive and nested Document\n",
    "   * **Document** can be recursive both horizontally and vertically\n",
    "   * each **Document** can have multiple **chunks** and **matches**\n",
    "   * **chunks** and **matches** are **Document** object "
   ]
  },
  {
   "cell_type": "code",
   "execution_count": 4,
   "id": "e356a6b4",
   "metadata": {},
   "outputs": [
    {
     "data": {
      "text/html": [
       "<img src=\"https://mermaid.ink/svg/JSV7aW5pdDogeyd0aGVtZSc6ICdiYXNlJywgJ3RoZW1lVmFyaWFibGVzJzogeyAncHJpbWFyeUNvbG9yJzogJyNGRkM2NjYnfX19JSUKICAgICAgICAgICAgICAgICAgICAgICAgICAgICAgICAgICAgICAgIGNsYXNzRGlhZ3JhbQogICAgICAgIAogICAgICAgICAgICAgICAgICAgICAgICAgICAgICAgICAgICAgICAgICAgICAgICBlZDh+RG9jdW1lbnR+IC0tPiAiMS8xIiAyZWN+RG9jdW1lbnR+OiBjaHVua3MKMmVjfkRvY3VtZW50fiAtLT4gIjEvMSIgYWU2fkRvY3VtZW50fjogY2h1bmtzCmNsYXNzIGFlNn5Eb2N1bWVudH57CitpZCDwn5CiCitncmFudWxhcml0eSAyCitwYXJlbnRfaWQg8J+QpgorZW1iZWRkaW5nKDxjbGFzcyAnbnVtcHkubmRhcnJheSc+KQp9CmNsYXNzIDJlY35Eb2N1bWVudH57CitpZCDwn5CmCitncmFudWxhcml0eSAxCitwYXJlbnRfaWQg8J+QsgorZW1iZWRkaW5nKDxjbGFzcyAnbnVtcHkubmRhcnJheSc+KQp9CmVkOH5Eb2N1bWVudH4gLi4+ICIxLzEiIDQ2M35Eb2N1bWVudH46IG1hdGNoZXMKY2xhc3MgNDYzfkRvY3VtZW50fnsKK2lkIPCfkK8KK2VtYmVkZGluZyg8Y2xhc3MgJ251bXB5Lm5kYXJyYXknPikKK2FkamFjZW5jeSAxCn0KY2xhc3MgZWQ4fkRvY3VtZW50fnsKK2lkIPCfkLIKK2VtYmVkZGluZyg8Y2xhc3MgJ251bXB5Lm5kYXJyYXknPikKfQ==\"/>"
      ],
      "text/plain": [
       "<IPython.core.display.Image object>"
      ]
     },
     "metadata": {},
     "output_type": "display_data"
    }
   ],
   "source": [
    "import numpy as np\n",
    "from jina import Document\n",
    "\n",
    "d0 = Document(id='🐲', embedding=np.array([0, 0]))\n",
    "d1 = Document(id='🐦', embedding=np.array([1, 0]))\n",
    "d2 = Document(id='🐢', embedding=np.array([0, 1]))\n",
    "d3 = Document(id='🐯', embedding=np.array([1, 1]))\n",
    "#chunks and matches are recursive attributes\n",
    "d0.chunks.append(d1) # chunks is the list of sub_document\n",
    "d0.chunks[0].chunks.append(d2)  \n",
    "d0.matches.append(d3) # matches is the the list of matched documents (neighbour-Document)of this document\n",
    "\n",
    "display(d0)"
   ]
  },
  {
   "cell_type": "markdown",
   "id": "3b6f3255",
   "metadata": {},
   "source": [
    "* **granularity** is The recursion \"depth\" of the recursive chunks structure\n",
    "* **adjacency** is the recursion \"width\" of the recursive match"
   ]
  },
  {
   "cell_type": "markdown",
   "id": "6dfdac2f",
   "metadata": {},
   "source": [
    "## Construct Document "
   ]
  },
  {
   "cell_type": "code",
   "execution_count": 5,
   "id": "e3ad0644",
   "metadata": {},
   "outputs": [],
   "source": [
    "from jina import Document\n",
    "d = Document(uri='https:://jina.ai',\n",
    "            mime_type='text/plain',\n",
    "            granularity=1,\n",
    "            adjacency=3,\n",
    "            tags={'foo': 'bar'})"
   ]
  },
  {
   "cell_type": "code",
   "execution_count": 6,
   "id": "7f7b66eb",
   "metadata": {},
   "outputs": [
    {
     "data": {
      "text/html": [
       "<img src=\"https://mermaid.ink/svg/JSV7aW5pdDogeyd0aGVtZSc6ICdiYXNlJywgJ3RoZW1lVmFyaWFibGVzJzogeyAncHJpbWFyeUNvbG9yJzogJyNGRkM2NjYnfX19JSUKICAgICAgICAgICAgICAgICAgICAgICAgICAgICAgICAgICAgICAgIGNsYXNzRGlhZ3JhbQogICAgICAgIAogICAgICAgICAgICAgICAgICAgICAgICAgICAgICAgICAgICAgICAgICAgICAgICBjbGFzcyBlYmF+RG9jdW1lbnR+eworaWQgYzRiYjgzZjItMwordXJpIGh0dHBzOjovL2oKK21pbWVfdHlwZSB0ZXh0L3BsYWluCit0YWdzKDxjbGFzcyAnamluYS50eXBlcy5zdHJ1Y3QuU3RydWN0Vmlldyc+KQorZ3JhbnVsYXJpdHkgMQorYWRqYWNlbmN5IDMKfQ==\"/>"
      ],
      "text/plain": [
       "<IPython.core.display.Image object>"
      ]
     },
     "metadata": {},
     "output_type": "display_data"
    }
   ],
   "source": [
    "d"
   ]
  },
  {
   "cell_type": "code",
   "execution_count": 7,
   "id": "f75e04cd",
   "metadata": {},
   "outputs": [],
   "source": [
    "# construct document from dict or json string:\n",
    "import json\n",
    "\n",
    "d = {'id': 'hello123', 'content': 'world'}\n",
    "d1 = Document(d)\n",
    "\n",
    "d = json.dumps({'id': 'hello123', 'content': 'world'})\n",
    "d2 = Document(d)"
   ]
  },
  {
   "cell_type": "code",
   "execution_count": 10,
   "id": "f147be0c",
   "metadata": {},
   "outputs": [
    {
     "name": "stdout",
     "output_type": "stream",
     "text": [
      "document before updating {'id': '🐦', 'chunks': [{'id': '🐯', 'mime_type': 'text/plain', 'granularity': 1, 'parent_id': '🐦'}], 'mime_type': 'text/plain', 'tags': {'c': 'd'}, 'text': 'goodbye-world'}\n",
      "\n",
      "\n",
      "document after update {'id': '🐲', 'chunks': [{'id': '🐯', 'mime_type': 'text/plain', 'granularity': 1, 'parent_id': '🐦'}], 'mime_type': 'text/plain', 'tags': {'c': 'd'}, 'text': 'goodbye-world'}\n"
     ]
    }
   ],
   "source": [
    "##update document according to another source document\n",
    "\n",
    "s = Document(\n",
    "    id='🐲',\n",
    "    content='hello-world',\n",
    "    tags={'a': 'b'},\n",
    "    chunks=[Document(id='🐢')],\n",
    ")\n",
    "d = Document(\n",
    "    id='🐦',\n",
    "    content='goodbye-world',\n",
    "    tags={'c': 'd'},\n",
    "    chunks=[Document(id='🐯')],\n",
    ")\n",
    "print(\"document before updating\", d)\n",
    "# only update `id` field\n",
    "d.update(s, fields=['id'])\n",
    "print(\"\\n\\ndocument after update\", d)"
   ]
  },
  {
   "cell_type": "code",
   "execution_count": 11,
   "id": "768e3bc3",
   "metadata": {},
   "outputs": [
    {
     "name": "stdout",
     "output_type": "stream",
     "text": [
      "{'id': '🐲', 'chunks': [{'id': '🐢', 'mime_type': 'text/plain', 'granularity': 1, 'parent_id': '🐲'}], 'mime_type': 'text/plain', 'tags': {'a': 'b', 'c': 'd'}, 'text': 'hello-world'}\n"
     ]
    }
   ],
   "source": [
    "#update all fields\n",
    "d.update(s) \n",
    "print(d)# `tags` field as `dict` will be merged"
   ]
  },
  {
   "cell_type": "markdown",
   "id": "272c5049",
   "metadata": {},
   "source": [
    "**Document** could be constructed from JSON, ndarray and files \n",
    "**https://docs.jina.ai/fundamentals/document/document-api/**"
   ]
  },
  {
   "cell_type": "markdown",
   "id": "4b77d8c3",
   "metadata": {},
   "source": [
    "## Add relevancy to Document\n",
    "   * to add relevancy we could use relevance attributes in document object :\n",
    "        * **scores** attribute : The relevance information of this Document.\n",
    "        * **evaluations** attribute : The evaluation information of this Document"
   ]
  },
  {
   "cell_type": "code",
   "execution_count": 12,
   "id": "a7791dbf",
   "metadata": {},
   "outputs": [
    {
     "data": {
      "text/html": [
       "<img src=\"https://mermaid.ink/svg/JSV7aW5pdDogeyd0aGVtZSc6ICdiYXNlJywgJ3RoZW1lVmFyaWFibGVzJzogeyAncHJpbWFyeUNvbG9yJzogJyNGRkM2NjYnfX19JSUKICAgICAgICAgICAgICAgICAgICAgICAgICAgICAgICAgICAgICAgIGNsYXNzRGlhZ3JhbQogICAgICAgIAogICAgICAgICAgICAgICAgICAgICAgICAgICAgICAgICAgICAgICAgICAgICAgICBjbGFzcyBhYmV+RG9jdW1lbnR+eworaWQgMmE3ODFmNWUtMworc2NvcmVzKDxjbGFzcyAnamluYS50eXBlcy5zY29yZS5tYXAuTmFtZWRTY29yZU1hcHBpbmcnPikKK2V2YWx1YXRpb25zKDxjbGFzcyAnamluYS50eXBlcy5zY29yZS5tYXAuTmFtZWRTY29yZU1hcHBpbmcnPikKfQ==\"/>"
      ],
      "text/plain": [
       "<IPython.core.display.Image object>"
      ]
     },
     "metadata": {},
     "output_type": "display_data"
    }
   ],
   "source": [
    "d = Document()\n",
    "d.scores['cosine similarity'] = 0.96\n",
    "d.scores['cosine similarity'].description = 'cosine similarity'\n",
    "d.scores['cosine similarity'].op_name = 'cosine()'\n",
    "d.evaluations['recall'] = 0.56\n",
    "d.evaluations['recall'].description = 'recall at 10'\n",
    "d.evaluations['recall'].op_name = 'recall()'\n",
    "d"
   ]
  },
  {
   "cell_type": "code",
   "execution_count": 14,
   "id": "91dffd56",
   "metadata": {},
   "outputs": [
    {
     "name": "stdout",
     "output_type": "stream",
     "text": [
      " cosine similarity => cosine similarity: 0.9599999785423279\n",
      " recall => recall at 10: 0.5600000023841858\n"
     ]
    }
   ],
   "source": [
    "for score_key, value_score in d.scores.items():\n",
    "    print(f' {score_key} => {value_score.description}: {value_score.value}')\n",
    "    \n",
    "for evaluation_key, evaluation_score in d.evaluations.items():\n",
    "    print(f' {evaluation_key} => {evaluation_score.description}: {evaluation_score.value}')"
   ]
  },
  {
   "cell_type": "code",
   "execution_count": null,
   "id": "0181a919",
   "metadata": {},
   "outputs": [],
   "source": []
  }
 ],
 "metadata": {
  "kernelspec": {
   "display_name": "Python 3",
   "language": "python",
   "name": "python3"
  },
  "language_info": {
   "codemirror_mode": {
    "name": "ipython",
    "version": 3
   },
   "file_extension": ".py",
   "mimetype": "text/x-python",
   "name": "python",
   "nbconvert_exporter": "python",
   "pygments_lexer": "ipython3",
   "version": "3.8.11"
  }
 },
 "nbformat": 4,
 "nbformat_minor": 5
}
